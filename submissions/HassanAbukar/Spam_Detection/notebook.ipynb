{
 "cells": [
  {
   "cell_type": "code",
   "execution_count": 3,
   "id": "167eb3b7",
   "metadata": {},
   "outputs": [],
   "source": [
    "import pandas as pd\n",
    "import numpy as np\n",
    "from sklearn.model_selection import train_test_split\n",
    "from sklearn.feature_extraction.text import TfidfVectorizer\n",
    "from sklearn.linear_model import LogisticRegression\n",
    "from sklearn.ensemble import RandomForestClassifier\n",
    "from sklearn.naive_bayes import MultinomialNB\n",
    "from sklearn.metrics import accuracy_score, precision_score, recall_score, f1_score, confusion_matrix\n",
    "\n",
    "\n"
   ]
  },
  {
   "cell_type": "code",
   "execution_count": 4,
   "id": "093ec80d",
   "metadata": {},
   "outputs": [],
   "source": [
    "df = pd.read_csv(\"mail_l7_dataset.csv\")"
   ]
  },
  {
   "cell_type": "code",
   "execution_count": 5,
   "id": "a182f261",
   "metadata": {},
   "outputs": [
    {
     "data": {
      "text/plain": [
       "Category    0\n",
       "Message     0\n",
       "dtype: int64"
      ]
     },
     "execution_count": 5,
     "metadata": {},
     "output_type": "execute_result"
    }
   ],
   "source": [
    "#df.head()\n",
    "df.isnull().sum()"
   ]
  },
  {
   "cell_type": "code",
   "execution_count": 6,
   "id": "c8177757",
   "metadata": {},
   "outputs": [],
   "source": [
    "df.loc[df['Category'].str.lower().str.strip() == 'spam', 'Category'] = 0\n",
    "df.loc[df['Category'].str.lower().str.strip() == 'ham', 'Category'] = 1"
   ]
  },
  {
   "cell_type": "code",
   "execution_count": 7,
   "id": "7f2fd470",
   "metadata": {},
   "outputs": [
    {
     "data": {
      "text/html": [
       "<div>\n",
       "<style scoped>\n",
       "    .dataframe tbody tr th:only-of-type {\n",
       "        vertical-align: middle;\n",
       "    }\n",
       "\n",
       "    .dataframe tbody tr th {\n",
       "        vertical-align: top;\n",
       "    }\n",
       "\n",
       "    .dataframe thead th {\n",
       "        text-align: right;\n",
       "    }\n",
       "</style>\n",
       "<table border=\"1\" class=\"dataframe\">\n",
       "  <thead>\n",
       "    <tr style=\"text-align: right;\">\n",
       "      <th></th>\n",
       "      <th>Category</th>\n",
       "      <th>Message</th>\n",
       "    </tr>\n",
       "  </thead>\n",
       "  <tbody>\n",
       "    <tr>\n",
       "      <th>0</th>\n",
       "      <td>1</td>\n",
       "      <td>Go until jurong point, crazy.. Available only ...</td>\n",
       "    </tr>\n",
       "    <tr>\n",
       "      <th>1</th>\n",
       "      <td>1</td>\n",
       "      <td>Ok lar... Joking wif u oni...</td>\n",
       "    </tr>\n",
       "    <tr>\n",
       "      <th>2</th>\n",
       "      <td>0</td>\n",
       "      <td>Free entry in 2 a wkly comp to win FA Cup fina...</td>\n",
       "    </tr>\n",
       "    <tr>\n",
       "      <th>3</th>\n",
       "      <td>1</td>\n",
       "      <td>U dun say so early hor... U c already then say...</td>\n",
       "    </tr>\n",
       "    <tr>\n",
       "      <th>4</th>\n",
       "      <td>1</td>\n",
       "      <td>Nah I don't think he goes to usf, he lives aro...</td>\n",
       "    </tr>\n",
       "  </tbody>\n",
       "</table>\n",
       "</div>"
      ],
      "text/plain": [
       "  Category                                            Message\n",
       "0        1  Go until jurong point, crazy.. Available only ...\n",
       "1        1                      Ok lar... Joking wif u oni...\n",
       "2        0  Free entry in 2 a wkly comp to win FA Cup fina...\n",
       "3        1  U dun say so early hor... U c already then say...\n",
       "4        1  Nah I don't think he goes to usf, he lives aro..."
      ]
     },
     "execution_count": 7,
     "metadata": {},
     "output_type": "execute_result"
    }
   ],
   "source": [
    "df.head()"
   ]
  },
  {
   "cell_type": "code",
   "execution_count": 8,
   "id": "4c3682b9",
   "metadata": {},
   "outputs": [],
   "source": [
    "X = df['Message'].astype(str)\n",
    "Y = df['Category'].astype(int)"
   ]
  },
  {
   "cell_type": "code",
   "execution_count": 9,
   "id": "b71ec4cb",
   "metadata": {},
   "outputs": [],
   "source": [
    "X_train, X_test, Y_train, Y_test = train_test_split(\n",
    "    X, Y,  test_size=0.2, random_state=42\n",
    ")"
   ]
  },
  {
   "cell_type": "code",
   "execution_count": 10,
   "id": "84bfd714",
   "metadata": {},
   "outputs": [
    {
     "name": "stdout",
     "output_type": "stream",
     "text": [
      "X_train shape: (4457,)\n",
      "X_test shape: (1115,)\n",
      "Y_train shape: (4457,)\n",
      "Y_test shape: (1115,)\n"
     ]
    }
   ],
   "source": [
    "# Viewing the shapes of the splits to confirm the operation was syccessful \n",
    "print(\"X_train shape:\", X_train.shape)\n",
    "print(\"X_test shape:\", X_test.shape)\n",
    "print(\"Y_train shape:\", Y_train.shape)\n",
    "print(\"Y_test shape:\", Y_test.shape)"
   ]
  },
  {
   "cell_type": "code",
   "execution_count": 11,
   "id": "3ff6883c",
   "metadata": {},
   "outputs": [],
   "source": [
    "# Text Transformation\n",
    "tfid = TfidfVectorizer(min_df = 1, stop_words= \"english\",  lowercase=True)\n",
    "X_train_features = tfid.fit_transform(X_train)\n",
    "X_test_features = tfid.transform(X_test)"
   ]
  },
  {
   "cell_type": "code",
   "execution_count": 12,
   "id": "af351ae9",
   "metadata": {},
   "outputs": [],
   "source": [
    "# model training and prediction\n",
    "lr = LogisticRegression(max_iter= 1000, random_state=42)\n",
    "lr.fit(X_train_features, Y_train)\n",
    "lr_predict = lr.predict(X_test_features)\n"
   ]
  },
  {
   "cell_type": "code",
   "execution_count": 13,
   "id": "949a809f",
   "metadata": {},
   "outputs": [
    {
     "name": "stdout",
     "output_type": "stream",
     "text": [
      "[1 1 1 ... 1 1 1]\n"
     ]
    }
   ],
   "source": [
    "#Printing the prediction\n",
    "print(lr_predict)"
   ]
  },
  {
   "cell_type": "code",
   "execution_count": 14,
   "id": "244f6c01",
   "metadata": {},
   "outputs": [],
   "source": [
    "# Testing the model with random forest \n",
    "rf = RandomForestClassifier(n_estimators=200, random_state=42)\n",
    "rf.fit(X_train_features, Y_train)\n",
    "rf_predict = rf.predict(X_test_features)"
   ]
  },
  {
   "cell_type": "code",
   "execution_count": 15,
   "id": "fae0c70e",
   "metadata": {},
   "outputs": [
    {
     "name": "stdout",
     "output_type": "stream",
     "text": [
      "[1 1 1 ... 1 1 1]\n"
     ]
    }
   ],
   "source": [
    "#Printing the prediction\n",
    "print(rf_predict)"
   ]
  },
  {
   "cell_type": "code",
   "execution_count": 16,
   "id": "70a45585",
   "metadata": {},
   "outputs": [],
   "source": [
    "# Testing the model with naive bayes\n",
    "gnb = MultinomialNB()\n",
    "gnb.fit(X_train_features.toarray(), Y_train)\n",
    "gnb_predict = gnb.predict(X_test_features.toarray())\n"
   ]
  },
  {
   "cell_type": "code",
   "execution_count": 17,
   "id": "1b54e1e6",
   "metadata": {},
   "outputs": [
    {
     "name": "stdout",
     "output_type": "stream",
     "text": [
      "[1 1 1 ... 1 1 1]\n"
     ]
    }
   ],
   "source": [
    "#Printing the prediction\n",
    "print(gnb_predict)"
   ]
  },
  {
   "cell_type": "code",
   "execution_count": 18,
   "id": "21179737",
   "metadata": {},
   "outputs": [],
   "source": [
    "#Evaluation metric\n",
    "def evaluate_matrix(name, y_true, y_predict, pos_label=0):\n",
    "    acc  = accuracy_score(y_true, y_predict)\n",
    "    prec = precision_score(y_true, y_predict, pos_label=pos_label)\n",
    "    rec  = recall_score(y_true, y_predict, pos_label=pos_label)\n",
    "    f1   = f1_score(y_true, y_predict, pos_label=pos_label)\n",
    "\n",
    "    print(f\"\\n{name} Performance:\")\n",
    "    print(f\"  Accuracy : {acc:.3f}\")\n",
    "    print(f\"  Precision: {prec:.3f}  (positive = spam=0)\")\n",
    "    print(f\"  Recall   : {rec:.3f}  (positive = spam=0)\")\n",
    "    print(f\"  F1-Score : {f1:.3f}  (positive = spam=0)\")"
   ]
  },
  {
   "cell_type": "code",
   "execution_count": 19,
   "id": "3643eb4a",
   "metadata": {},
   "outputs": [
    {
     "name": "stdout",
     "output_type": "stream",
     "text": [
      "\n",
      "Logistic Regression Performance:\n",
      "  Accuracy : 0.968\n",
      "  Precision: 1.000  (positive = spam=0)\n",
      "  Recall   : 0.758  (positive = spam=0)\n",
      "  F1-Score : 0.863  (positive = spam=0)\n",
      "\n",
      "Random Forest Performance:\n",
      "  Accuracy : 0.983\n",
      "  Precision: 1.000  (positive = spam=0)\n",
      "  Recall   : 0.872  (positive = spam=0)\n",
      "  F1-Score : 0.932  (positive = spam=0)\n",
      "\n",
      "Navie Bayes Performance:\n",
      "  Accuracy : 0.977\n",
      "  Precision: 1.000  (positive = spam=0)\n",
      "  Recall   : 0.826  (positive = spam=0)\n",
      "  F1-Score : 0.904  (positive = spam=0)\n"
     ]
    }
   ],
   "source": [
    "evaluate_matrix(\"Logistic Regression\", Y_test, lr_predict)\n",
    "evaluate_matrix(\"Random Forest\", Y_test, rf_predict)\n",
    "evaluate_matrix(\"Navie Bayes\", Y_test, gnb_predict)"
   ]
  },
  {
   "cell_type": "code",
   "execution_count": 20,
   "id": "bec5cd51",
   "metadata": {},
   "outputs": [
    {
     "name": "stdout",
     "output_type": "stream",
     "text": [
      "Logostics Regression -Confusion Matrix : \n",
      "                Predicted Harm(1)  Predicted Spam(0)\n",
      "Actual Harm(1)                966                  0\n",
      "Actual Spam(0)                 36                113\n",
      "Random RegreForestssion -Confusion Matrix : \n",
      "                Predicted Harm(1)  Predicted Spam(0)\n",
      "Actual Harm(1)                966                  0\n",
      "Actual Spam(0)                 19                130\n",
      "Navie Bayes  -Confusion Matrix : \n",
      "                Predicted Harm(1)  Predicted Spam(0)\n",
      "Actual Harm(1)                966                  0\n",
      "Actual Spam(0)                 26                123\n"
     ]
    }
   ],
   "source": [
    "# See the consusion matrix\n",
    "def print_confmat(name, Y_true, Y_predict):\n",
    "    cm = confusion_matrix(Y_true, Y_predict, labels= [1,0])\n",
    "    cm_df = pd.DataFrame(\n",
    "        cm,\n",
    "        index= [\"Actual Harm(1)\", \"Actual Spam(0)\"],\n",
    "        columns= [\"Predicted Harm(1)\", \"Predicted Spam(0)\"]\n",
    "    )\n",
    "    print(f\"{name} -Confusion Matrix : \\n{cm_df}\")\n",
    "\n",
    "print_confmat(\"Logostics Regression\",  Y_test, lr_predict)\n",
    "print_confmat(\"Random RegreForestssion\",  Y_test, rf_predict)\n",
    "print_confmat(\"Navie Bayes \",  Y_test, gnb_predict)"
   ]
  },
  {
   "cell_type": "code",
   "execution_count": 29,
   "id": "31ae7429",
   "metadata": {},
   "outputs": [],
   "source": [
    "# Single-message sanity check (like L5 single-row check)\n",
    "i = 14  # change index to inspect different emails from X_test\n",
    "sample_text = X_test.iloc[i]\n",
    "true_label  = Y_test.iloc[i]"
   ]
  },
  {
   "cell_type": "code",
   "execution_count": 30,
   "id": "afc0db29",
   "metadata": {},
   "outputs": [
    {
     "name": "stdout",
     "output_type": "stream",
     "text": [
      "\n",
      "=== SINGLE MESSAGE CHECK ===\n",
      "Text snippet: FREE RINGTONE text FIRST to 87131 for a poly or text GET to 87131 for a true tone! Help? 0845 2814032 16 after 1st free, tones are 3x£150pw to e£nd txt stop\n",
      "Actual      : Spam (0)\n",
      "LR Prediction     : Spam (0)\n",
      "RF Prediction     : Spam (0)\n",
      "NB Prediction     : Spam (0)\n"
     ]
    }
   ],
   "source": [
    "# Predict with three models\n",
    "lr_predict_one = int(lr.predict(tfid.transform([sample_text]))[0])\n",
    "rf_predict_one = int(rf.predict(tfid.transform([sample_text]).toarray())[0])\n",
    "gnb_predict_one = int(gnb.predict(tfid.transform([sample_text]).toarray())[0])\n",
    "\n",
    "# For Readable Output \n",
    "def lab2str(r):\n",
    "    return \"Spam (0)\" if r == 0 else \"Ham (1)\"\n",
    "\n",
    "print(\"\\n=== SINGLE MESSAGE CHECK ===\")\n",
    "snippet = (sample_text[:160] + \"...\") if len(sample_text) > 160 else sample_text\n",
    "print(\"Text snippet:\", snippet)\n",
    "print(\"Actual      :\", lab2str(true_label))\n",
    "print(\"LR Prediction     :\", lab2str(lr_predict_one))\n",
    "print(\"RF Prediction     :\", lab2str(rf_predict_one))\n",
    "print(\"NB Prediction     :\", lab2str(gnb_predict_one))"
   ]
  }
 ],
 "metadata": {
  "kernelspec": {
   "display_name": "spam-detection (3.13.7)",
   "language": "python",
   "name": "python3"
  },
  "language_info": {
   "codemirror_mode": {
    "name": "ipython",
    "version": 3
   },
   "file_extension": ".py",
   "mimetype": "text/x-python",
   "name": "python",
   "nbconvert_exporter": "python",
   "pygments_lexer": "ipython3",
   "version": "3.13.7"
  }
 },
 "nbformat": 4,
 "nbformat_minor": 5
}
